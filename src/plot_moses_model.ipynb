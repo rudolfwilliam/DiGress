{
 "cells": [
  {
   "cell_type": "code",
   "execution_count": 1,
   "metadata": {},
   "outputs": [],
   "source": [
    "import os\n",
    "import torch\n",
    "\n",
    "torch.manual_seed(0)\n",
    "\n",
    "os.getcwd()\n",
    "\n",
    "os.chdir(\"./src\")"
   ]
  },
  {
   "cell_type": "code",
   "execution_count": 2,
   "metadata": {},
   "outputs": [
    {
     "name": "stderr",
     "output_type": "stream",
     "text": [
      "Lightning automatically upgraded your loaded checkpoint from v1.6.5 to v2.3.0. To apply the upgrade to your files permanently, run `python -m pytorch_lightning.utilities.upgrade_checkpoint outputs/checkpoint_moses.ckpt`\n"
     ]
    },
    {
     "name": "stdout",
     "output_type": "stream",
     "text": [
      "Mini moses not found, Moses dataset cannot be used\n",
      "Found rdkit, all good\n"
     ]
    },
    {
     "name": "stderr",
     "output_type": "stream",
     "text": [
      "/home/kkladny/anaconda3/envs/digress/lib/python3.9/site-packages/torch/nn/init.py:452: UserWarning: Initializing zero-element tensors is a no-op\n",
      "  warnings.warn(\"Initializing zero-element tensors is a no-op\")\n",
      "/home/kkladny/anaconda3/envs/digress/lib/python3.9/site-packages/pytorch_lightning/utilities/parsing.py:208: Attribute 'train_metrics' is an instance of `nn.Module` and is already saved during checkpointing. It is recommended to ignore them using `self.save_hyperparameters(ignore=['train_metrics'])`.\n",
      "/home/kkladny/anaconda3/envs/digress/lib/python3.9/site-packages/pytorch_lightning/utilities/parsing.py:208: Attribute 'sampling_metrics' is an instance of `nn.Module` and is already saved during checkpointing. It is recommended to ignore them using `self.save_hyperparameters(ignore=['sampling_metrics'])`.\n"
     ]
    },
    {
     "name": "stdout",
     "output_type": "stream",
     "text": [
      "Marginal distribution of the classes: tensor([0.5664, 0.1071, 0.1283, 0.0812, 0.1115, 0.0042, 0.0012, 0.0000],\n",
      "       device='cuda:0') for nodes, tensor([8.4956e-01, 4.4773e-02, 5.9329e-02, 3.3361e-04, 4.6009e-02],\n",
      "       device='cuda:0') for edges\n"
     ]
    }
   ],
   "source": [
    "from diffusion_model_discrete import DiscreteDenoisingDiffusion\n",
    "from new_functions import mol_to_data, clean_and_convert_samples\n",
    "import torch\n",
    "\n",
    "model = DiscreteDenoisingDiffusion.load_from_checkpoint(\"./outputs/checkpoint_moses.ckpt\", map_location=torch.device('cuda'))"
   ]
  },
  {
   "cell_type": "code",
   "execution_count": 3,
   "metadata": {},
   "outputs": [
    {
     "data": {
      "image/png": "[encoded data removed]",
      "text/plain": [
       "<rdkit.Chem.rdchem.Mol at 0x7ac16eb2bc10>"
      ]
     },
     "execution_count": 3,
     "metadata": {},
     "output_type": "execute_result"
    }
   ],
   "source": [
    "import moses\n",
    "\n",
    "test_smile = 'Cc1cc(Br)ccc1NC(=O)C(C)C'\n",
    "#test_smile = 'COc1ccc(-c2nc3n(c2-c2ccncc2)CCC3)cc1'\n",
    "# plot the test molecule\n",
    "from rdkit import Chem\n",
    "from rdkit.Chem import Draw\n",
    "mol = Chem.MolFromSmiles(test_smile)\n",
    "mol_data = mol_to_data(mol)\n",
    "mol"
   ]
  },
  {
   "cell_type": "code",
   "execution_count": 4,
   "metadata": {},
   "outputs": [],
   "source": [
    "from analysis.visualization import MolecularVisualization\n",
    "from datasets.moses_dataset import MOSESinfos, MOSESDataModule\n",
    "from hydra import compose, initialize\n",
    "\n",
    "with initialize(version_base=None, config_path=\"configs\"):\n",
    "    cfg = compose(config_name=\"config\")\n",
    "\n",
    "datamodule = MOSESDataModule(cfg=cfg)\n",
    "infos = MOSESinfos(datamodule=datamodule)\n",
    "vis = MolecularVisualization(remove_h=True, dataset_infos=infos)"
   ]
  },
  {
   "cell_type": "code",
   "execution_count": 5,
   "metadata": {},
   "outputs": [
    {
     "data": {
      "image/png": "[encoded data removed]",
      "text/plain": [
       "<rdkit.Chem.rdchem.Mol at 0x7ac1874bff20>"
      ]
     },
     "execution_count": 5,
     "metadata": {},
     "output_type": "execute_result"
    }
   ],
   "source": [
    "atom_count = mol.GetNumAtoms()\n",
    "mol_data_cropped = (mol_data[0][:, :(atom_count-1)], mol_data[1][:, :(atom_count-1), :(atom_count-1)])\n",
    "mol_cropped = vis.mol_from_graphs(mol_data_cropped[0][0], mol_data_cropped[1][0])\n",
    "mol_cropped"
   ]
  },
  {
   "cell_type": "code",
   "execution_count": 6,
   "metadata": {},
   "outputs": [
    {
     "name": "stdout",
     "output_type": "stream",
     "text": [
      "The number of possible ways to add one atom is: 86\n"
     ]
    }
   ],
   "source": [
    "# compute amount of possible ways to add exactly one atom to the molecule\n",
    "\n",
    "def get_possible_attachments(mol):\n",
    "    \"\"\"Get a list of atoms in the molecule where a new atom can be attached.\"\"\"\n",
    "    attachment_points = []\n",
    "    for atom in mol.GetAtoms():\n",
    "        attachment_points.append(atom.GetIdx())\n",
    "    return attachment_points\n",
    "\n",
    "def add_atom_to_molecule(mol, atom_symbol, atom_idx, bond_type):\n",
    "    \"\"\"Add an atom to the molecule at the specified atom index with a specified bond type.\"\"\"\n",
    "    editable_mol = Chem.RWMol(mol)\n",
    "    new_atom = Chem.Atom(atom_symbol)\n",
    "    new_idx = editable_mol.AddAtom(new_atom)\n",
    "    editable_mol.AddBond(atom_idx, new_idx, bond_type)\n",
    "    return editable_mol.GetMol()\n",
    "\n",
    "def get_possible_additions(mol, new_atoms):\n",
    "    \"\"\"Get all possible molecules generated by adding each atom in new_atoms to the molecule with different bond types.\"\"\"\n",
    "    from rdkit import RDLogger\n",
    "    RDLogger.DisableLog('rdApp.*')\n",
    "    attachment_points = get_possible_attachments(mol)\n",
    "    bond_types = [Chem.rdchem.BondType.SINGLE, Chem.rdchem.BondType.DOUBLE, Chem.rdchem.BondType.TRIPLE, Chem.rdchem.BondType.AROMATIC]\n",
    "    new_molecules = []\n",
    "    for atom_symbol in new_atoms:\n",
    "        for atom_idx in attachment_points:\n",
    "            for bond_type in bond_types:\n",
    "                try:\n",
    "                    new_mol = add_atom_to_molecule(mol, atom_symbol, atom_idx, bond_type)\n",
    "                    Chem.SanitizeMol(new_mol)\n",
    "                    new_molecules.append(new_mol)\n",
    "                except Exception as e:\n",
    "                    # Skip invalid molecules\n",
    "                    pass\n",
    "    return new_molecules\n",
    "\n",
    "# Example molecule (Cyclohexane)\n",
    "smiles = test_smile\n",
    "mol = Chem.MolFromSmiles(smiles)\n",
    "\n",
    "# Define the new atoms that can be added (e.g., C, O, N, H)\n",
    "new_atoms = ['C', 'N', 'S', 'O', 'F', 'Cl', 'Br', 'H']\n",
    "\n",
    "# Get all possible new molecules\n",
    "new_molecules = get_possible_additions(mol, new_atoms)\n",
    "\n",
    "# Count the number of possible ways to add one atom\n",
    "num_possible_additions = len(new_molecules)\n",
    "print(f\"The number of possible ways to add one atom is: {num_possible_additions}\")"
   ]
  },
  {
   "cell_type": "code",
   "execution_count": 8,
   "metadata": {},
   "outputs": [],
   "source": [
    "samples = model.sample_batch(batch_id=1, batch_size=128, keep_chain=1, number_chain_steps=1, save_final=1, num_nodes=atom_count, scaffold_mask=(mol_data_cropped[0][0], mol_data_cropped[1][0]))"
   ]
  },
  {
   "cell_type": "code",
   "execution_count": 9,
   "metadata": {},
   "outputs": [
    {
     "data": {
      "text/plain": [
       "22"
      ]
     },
     "execution_count": 9,
     "metadata": {},
     "output_type": "execute_result"
    }
   ],
   "source": [
    "samples_mol = clean_and_convert_samples(samples)\n",
    "\n",
    "from rdkit.Chem import MACCSkeys\n",
    "#fps = [AllChem.GetMorganFingerprintAsBitVect(sample, 2, useChirality=True) for sample in samples_mol]\n",
    "fps = [MACCSkeys.GenMACCSKeys(sample) for sample in samples_mol]\n",
    "len(fps)"
   ]
  },
  {
   "cell_type": "code",
   "execution_count": 14,
   "metadata": {},
   "outputs": [
    {
     "data": {
      "image/png": "[encoded data removed]",
      "text/plain": [
       "<rdkit.Chem.rdchem.Mol at 0x7ac16e6a72e0>"
      ]
     },
     "execution_count": 14,
     "metadata": {},
     "output_type": "execute_result"
    }
   ],
   "source": [
    "samples_mol[0]"
   ]
  },
  {
   "cell_type": "code",
   "execution_count": 11,
   "metadata": {},
   "outputs": [
    {
     "data": {
      "image/png": "[encoded data removed]",
      "text/plain": [
       "<rdkit.Chem.rdchem.Mol at 0x7ac1870522e0>"
      ]
     },
     "execution_count": 11,
     "metadata": {},
     "output_type": "execute_result"
    }
   ],
   "source": [
    "mol"
   ]
  },
  {
   "cell_type": "code",
   "execution_count": 13,
   "metadata": {},
   "outputs": [
    {
     "data": {
      "text/plain": [
       "[0.65625,\n",
       " 0.7333333333333333,\n",
       " 1.0,\n",
       " 0.7333333333333333,\n",
       " 0.65625,\n",
       " 0.7931034482758621,\n",
       " 0.75,\n",
       " 0.65625,\n",
       " 0.5526315789473685,\n",
       " 0.46511627906976744,\n",
       " 0.4,\n",
       " 0.7931034482758621,\n",
       " 0.6875,\n",
       " 0.7333333333333333,\n",
       " 0.5121951219512195,\n",
       " 0.7931034482758621,\n",
       " 0.525,\n",
       " 0.6666666666666666,\n",
       " 0.7096774193548387,\n",
       " 0.3877551020408163,\n",
       " 0.6470588235294118,\n",
       " 0.4418604651162791]"
      ]
     },
     "execution_count": 13,
     "metadata": {},
     "output_type": "execute_result"
    }
   ],
   "source": [
    "# compute similarities to original molecule\n",
    "#fps_mol = AllChem.GetMorganFingerprintAsBitVect(mol, 2, useChirality=True)\n",
    "fps_mol = MACCSkeys.GenMACCSKeys(mol)\n",
    "from rdkit import DataStructs\n",
    "similarities = [DataStructs.TanimotoSimilarity(fps_mol, fp) for fp in fps]\n",
    "similarities"
   ]
  },
  {
   "cell_type": "code",
   "execution_count": 12,
   "metadata": {},
   "outputs": [
    {
     "name": "stdout",
     "output_type": "stream",
     "text": [
      "Combined SVG saved to non_substructures.svg.\n"
     ]
    }
   ],
   "source": [
    "#samples_mol[similarities.index(max(similarities))]\n",
    "# plot first 5 samples\n",
    "from new_functions import generate_non_substructure_vis, combine_svg_strings\n",
    "pics = [generate_non_substructure_vis(sample, mol_cropped) for sample in samples_mol[:10]]\n",
    "#Draw.MolsToGridImage(samples_mol[:10], molsPerRow=10, subImgSize=(200,200))\n",
    "combine_svg_strings(pics, \"non_substructures.svg\")"
   ]
  },
  {
   "cell_type": "code",
   "execution_count": 7,
   "metadata": {},
   "outputs": [
    {
     "ename": "NameError",
     "evalue": "name 'samples_mol' is not defined",
     "output_type": "error",
     "traceback": [
      "\u001b[0;31m---------------------------------------------------------------------------\u001b[0m",
      "\u001b[0;31mNameError\u001b[0m                                 Traceback (most recent call last)",
      "Cell \u001b[0;32mIn[7], line 4\u001b[0m\n\u001b[1;32m      1\u001b[0m \u001b[38;5;66;03m# compute similiraties between samples\u001b[39;00m\n\u001b[1;32m      2\u001b[0m \u001b[38;5;66;03m#fps = [AllChem.GetMorganFingerprintAsBitVect(mol_gen, 2, useChirality=True) for mol_gen in samples_mol]\u001b[39;00m\n\u001b[1;32m      3\u001b[0m \u001b[38;5;28;01mfrom\u001b[39;00m \u001b[38;5;21;01mrdkit\u001b[39;00m\u001b[38;5;21;01m.\u001b[39;00m\u001b[38;5;21;01mChem\u001b[39;00m \u001b[38;5;28;01mimport\u001b[39;00m MACCSkeys\n\u001b[0;32m----> 4\u001b[0m fps \u001b[38;5;241m=\u001b[39m [MACCSkeys\u001b[38;5;241m.\u001b[39mGenMACCSKeys(mol_gen) \u001b[38;5;28;01mfor\u001b[39;00m mol_gen \u001b[38;5;129;01min\u001b[39;00m \u001b[43msamples_mol\u001b[49m]\n\u001b[1;32m      5\u001b[0m \u001b[38;5;66;03m# plot as heatmap\u001b[39;00m\n\u001b[1;32m      6\u001b[0m \u001b[38;5;28;01mimport\u001b[39;00m \u001b[38;5;21;01mseaborn\u001b[39;00m \u001b[38;5;28;01mas\u001b[39;00m \u001b[38;5;21;01msns\u001b[39;00m\n",
      "\u001b[0;31mNameError\u001b[0m: name 'samples_mol' is not defined"
     ]
    }
   ],
   "source": [
    "# compute similiraties between samples\n",
    "#fps = [AllChem.GetMorganFingerprintAsBitVect(mol_gen, 2, useChirality=True) for mol_gen in samples_mol]\n",
    "from rdkit.Chem import MACCSkeys\n",
    "fps = [MACCSkeys.GenMACCSKeys(mol_gen) for mol_gen in samples_mol]\n",
    "# plot as heatmap\n",
    "import seaborn as sns\n",
    "import matplotlib.pyplot as plt\n",
    "\n",
    "plt.figure(figsize=(12, 10))\n",
    "similarity_matrix = [[DataStructs.TanimotoSimilarity(fp1, fp2) for fp1 in fps] for fp2 in fps]\n",
    "sns.heatmap(similarity_matrix, cmap='viridis', annot=True, fmt=\".2f\")"
   ]
  },
  {
   "cell_type": "code",
   "execution_count": null,
   "metadata": {},
   "outputs": [
    {
     "data": {
      "text/plain": [
       "0.5454545454545454"
      ]
     },
     "execution_count": 13,
     "metadata": {},
     "output_type": "execute_result"
    }
   ],
   "source": [
    "count = 0\n",
    "temp = similarity_matrix\n",
    "# set diagonal to 0\n",
    "for i in range(len(temp)):\n",
    "    temp[i][i] = 0\n",
    "for i in range(len(temp)):\n",
    "    if max(temp[i]) >= 0.85:\n",
    "        count += 1\n",
    "count/len(similarities)"
   ]
  },
  {
   "cell_type": "code",
   "execution_count": null,
   "metadata": {},
   "outputs": [],
   "source": [
    "def count_atoms(mol):\n",
    "    \"\"\"Count the number of each type of atom in a molecule.\"\"\"\n",
    "    atom_counts = {\"C\": 0, \"O\": 0, \"H\": 0, \"N\" : 0}\n",
    "    for atom in mol.GetAtoms():\n",
    "        element = atom.GetSymbol()\n",
    "        if element in atom_counts:\n",
    "            atom_counts[element] += 1\n",
    "    return atom_counts\n",
    "\n",
    "def has_exact_atom_counts(atom_counts, required_counts):\n",
    "    \"\"\"Check if the molecule has the exact required number of specific atoms.\"\"\"\n",
    "    for element, count in required_counts.items():\n",
    "        if atom_counts.get(element, 0) != count:\n",
    "            return False\n",
    "    return True\n",
    "\n",
    "def filter_molecules_by_exact_atom_counts(smiles_list, required_counts):\n",
    "    \"\"\"Filter molecules based on the exact counts of specific atoms.\"\"\"\n",
    "    valid_mols = []\n",
    "    for smiles in smiles_list:\n",
    "        mol = Chem.MolFromSmiles(smiles)\n",
    "        if mol is not None:\n",
    "            atom_counts = count_atoms(mol)\n",
    "            if has_exact_atom_counts(atom_counts, required_counts):\n",
    "                valid_mols.append(mol)\n",
    "    return valid_mols"
   ]
  },
  {
   "cell_type": "code",
   "execution_count": null,
   "metadata": {},
   "outputs": [
    {
     "name": "stdout",
     "output_type": "stream",
     "text": [
      "/home/kkladny/conformal_prediction_generative_models/DiGress/src\n"
     ]
    },
    {
     "data": {
      "image/png": "[encoded data removed]",
      "text/plain": [
       "<rdkit.Chem.rdchem.Mol at 0x73227321dac0>"
      ]
     },
     "execution_count": 15,
     "metadata": {},
     "output_type": "execute_result"
    }
   ],
   "source": [
    "from rdkit.Chem import SanitizeMol\n",
    "\n",
    "def write_molecules_to_sdf(molecules, filename):\n",
    "    writer = SDWriter(filename)\n",
    "    for mol in molecules:\n",
    "        if mol is not None:\n",
    "            try:\n",
    "                # Attempt to sanitize the molecule without kekulization\n",
    "                SanitizeMol(mol, sanitizeOps=SanitizeFlags.SANITIZE_ALL ^ SanitizeFlags.SANITIZE_KEKULIZE)\n",
    "                writer.write(mol)\n",
    "            except Exception as e:\n",
    "                print(f\"Skipping molecule due to sanitization error: {e}\")\n",
    "    writer.close()\n",
    "\n",
    "#write_molecules_to_sdf(valid_mols, \"valid_mols.sdf\")\n",
    "# load molecules from file\n",
    "from rdkit.Chem import SDMolSupplier\n",
    "print(os.getcwd())\n",
    "supplier = SDMolSupplier(\"valid_mols.sdf\")\n",
    "mols = [mol for mol in supplier if mol is not None]\n",
    "mols[8]"
   ]
  }
 ],
 "metadata": {
  "kernelspec": {
   "display_name": "digress",
   "language": "python",
   "name": "python3"
  },
  "language_info": {
   "codemirror_mode": {
    "name": "ipython",
    "version": 3
   },
   "file_extension": ".py",
   "mimetype": "text/x-python",
   "name": "python",
   "nbconvert_exporter": "python",
   "pygments_lexer": "ipython3",
   "version": "3.9.19"
  }
 },
 "nbformat": 4,
 "nbformat_minor": 2
}
